{
 "cells": [
  {
   "cell_type": "markdown",
   "source": [
    "# https://www.kaggle.com/datasets/iabhishekofficial/mobile-price-classification"
   ],
   "metadata": {
    "collapsed": false
   }
  },
  {
   "cell_type": "code",
   "execution_count": 26,
   "metadata": {
    "collapsed": true
   },
   "outputs": [
    {
     "name": "stdout",
     "output_type": "stream",
     "text": [
      "(2000, 21)\n",
      "   battery_power  blue  clock_speed  dual_sim  fc  four_g  int_memory  m_dep  \\\n",
      "0            842     0          2.2         0   1       0           7    0.6   \n",
      "1           1021     1          0.5         1   0       1          53    0.7   \n",
      "2            563     1          0.5         1   2       1          41    0.9   \n",
      "3            615     1          2.5         0   0       0          10    0.8   \n",
      "4           1821     1          1.2         0  13       1          44    0.6   \n",
      "\n",
      "   mobile_wt  n_cores  ...  px_height  px_width   ram  sc_h  sc_w  talk_time  \\\n",
      "0        188        2  ...         20       756  2549     9     7         19   \n",
      "1        136        3  ...        905      1988  2631    17     3          7   \n",
      "2        145        5  ...       1263      1716  2603    11     2          9   \n",
      "3        131        6  ...       1216      1786  2769    16     8         11   \n",
      "4        141        2  ...       1208      1212  1411     8     2         15   \n",
      "\n",
      "   three_g  touch_screen  wifi  price_range  \n",
      "0        0             0     1            1  \n",
      "1        1             1     0            2  \n",
      "2        1             1     0            2  \n",
      "3        1             0     0            2  \n",
      "4        1             1     0            1  \n",
      "\n",
      "[5 rows x 21 columns]\n",
      "       battery_power       blue  clock_speed     dual_sim           fc  \\\n",
      "count    2000.000000  2000.0000  2000.000000  2000.000000  2000.000000   \n",
      "mean     1238.518500     0.4950     1.522250     0.509500     4.309500   \n",
      "std       439.418206     0.5001     0.816004     0.500035     4.341444   \n",
      "min       501.000000     0.0000     0.500000     0.000000     0.000000   \n",
      "25%       851.750000     0.0000     0.700000     0.000000     1.000000   \n",
      "50%      1226.000000     0.0000     1.500000     1.000000     3.000000   \n",
      "75%      1615.250000     1.0000     2.200000     1.000000     7.000000   \n",
      "max      1998.000000     1.0000     3.000000     1.000000    19.000000   \n",
      "\n",
      "            four_g   int_memory        m_dep    mobile_wt      n_cores  ...  \\\n",
      "count  2000.000000  2000.000000  2000.000000  2000.000000  2000.000000  ...   \n",
      "mean      0.521500    32.046500     0.501750   140.249000     4.520500  ...   \n",
      "std       0.499662    18.145715     0.288416    35.399655     2.287837  ...   \n",
      "min       0.000000     2.000000     0.100000    80.000000     1.000000  ...   \n",
      "25%       0.000000    16.000000     0.200000   109.000000     3.000000  ...   \n",
      "50%       1.000000    32.000000     0.500000   141.000000     4.000000  ...   \n",
      "75%       1.000000    48.000000     0.800000   170.000000     7.000000  ...   \n",
      "max       1.000000    64.000000     1.000000   200.000000     8.000000  ...   \n",
      "\n",
      "         px_height     px_width          ram         sc_h         sc_w  \\\n",
      "count  2000.000000  2000.000000  2000.000000  2000.000000  2000.000000   \n",
      "mean    645.108000  1251.515500  2124.213000    12.306500     5.767000   \n",
      "std     443.780811   432.199447  1084.732044     4.213245     4.356398   \n",
      "min       0.000000   500.000000   256.000000     5.000000     0.000000   \n",
      "25%     282.750000   874.750000  1207.500000     9.000000     2.000000   \n",
      "50%     564.000000  1247.000000  2146.500000    12.000000     5.000000   \n",
      "75%     947.250000  1633.000000  3064.500000    16.000000     9.000000   \n",
      "max    1960.000000  1998.000000  3998.000000    19.000000    18.000000   \n",
      "\n",
      "         talk_time      three_g  touch_screen         wifi  price_range  \n",
      "count  2000.000000  2000.000000   2000.000000  2000.000000  2000.000000  \n",
      "mean     11.011000     0.761500      0.503000     0.507000     1.500000  \n",
      "std       5.463955     0.426273      0.500116     0.500076     1.118314  \n",
      "min       2.000000     0.000000      0.000000     0.000000     0.000000  \n",
      "25%       6.000000     1.000000      0.000000     0.000000     0.750000  \n",
      "50%      11.000000     1.000000      1.000000     1.000000     1.500000  \n",
      "75%      16.000000     1.000000      1.000000     1.000000     2.250000  \n",
      "max      20.000000     1.000000      1.000000     1.000000     3.000000  \n",
      "\n",
      "[8 rows x 21 columns]\n"
     ]
    }
   ],
   "source": [
    "# Importowanie niezbędnych bibliotek\n",
    "import pandas as pd\n",
    "import numpy as np\n",
    "import matplotlib.pyplot as plt\n",
    "from sklearn.model_selection import train_test_split\n",
    "from sklearn.preprocessing import StandardScaler\n",
    "from sklearn.metrics import accuracy_score, precision_score, recall_score, f1_score\n",
    "import tensorflow as tf\n",
    "\n",
    "# Wczytanie danych\n",
    "data = pd.read_csv(\"./Dane/train.csv\")\n",
    "\n",
    "# Eksploracja danych\n",
    "print(data.shape)\n",
    "print(data.head())\n",
    "print(data.describe())"
   ]
  },
  {
   "cell_type": "code",
   "execution_count": 27,
   "outputs": [
    {
     "name": "stdout",
     "output_type": "stream",
     "text": [
      "Epoch 1/10\n",
      "40/40 [==============================] - 0s 3ms/step - loss: 1.3258 - accuracy: 0.3641 - val_loss: 1.1899 - val_accuracy: 0.5000\n",
      "Epoch 2/10\n",
      "40/40 [==============================] - 0s 1ms/step - loss: 1.0253 - accuracy: 0.5992 - val_loss: 0.9420 - val_accuracy: 0.6187\n",
      "Epoch 3/10\n",
      "40/40 [==============================] - 0s 1ms/step - loss: 0.7669 - accuracy: 0.7250 - val_loss: 0.7317 - val_accuracy: 0.7375\n",
      "Epoch 4/10\n",
      "40/40 [==============================] - 0s 1ms/step - loss: 0.5836 - accuracy: 0.8289 - val_loss: 0.5909 - val_accuracy: 0.7844\n",
      "Epoch 5/10\n",
      "40/40 [==============================] - 0s 1ms/step - loss: 0.4618 - accuracy: 0.8703 - val_loss: 0.4818 - val_accuracy: 0.8219\n",
      "Epoch 6/10\n",
      "40/40 [==============================] - 0s 1ms/step - loss: 0.3732 - accuracy: 0.9062 - val_loss: 0.4090 - val_accuracy: 0.8656\n",
      "Epoch 7/10\n",
      "40/40 [==============================] - 0s 1ms/step - loss: 0.3066 - accuracy: 0.9320 - val_loss: 0.3555 - val_accuracy: 0.8719\n",
      "Epoch 8/10\n",
      "40/40 [==============================] - 0s 1ms/step - loss: 0.2578 - accuracy: 0.9430 - val_loss: 0.3147 - val_accuracy: 0.9000\n",
      "Epoch 9/10\n",
      "40/40 [==============================] - 0s 1ms/step - loss: 0.2160 - accuracy: 0.9500 - val_loss: 0.2886 - val_accuracy: 0.9094\n",
      "Epoch 10/10\n",
      "40/40 [==============================] - 0s 1ms/step - loss: 0.1857 - accuracy: 0.9602 - val_loss: 0.2658 - val_accuracy: 0.9000\n",
      "13/13 [==============================] - 0s 667us/step\n",
      "Accuracy: 0.91\n",
      "Precision: 0.909746038483305\n",
      "Recall: 0.91\n",
      "F1-score: 0.9097315580778933\n"
     ]
    },
    {
     "data": {
      "text/plain": "<Figure size 1000x600 with 1 Axes>",
      "image/png": "[encoded data removed]"
     },
     "metadata": {},
     "output_type": "display_data"
    }
   ],
   "source": [
    "# Przetwarzanie danych\n",
    "X = data.drop(\"price_range\", axis=1)  # Wejścia (cechy)\n",
    "y = data[\"price_range\"]  # Wyjścia (klasy)\n",
    "\n",
    "# Podział danych na zbiór treningowy i testowy\n",
    "X_train, X_test, y_train, y_test = train_test_split(X, y, test_size=0.2, random_state=42)\n",
    "\n",
    "# Skalowanie danych\n",
    "scaler = StandardScaler()\n",
    "X_train = scaler.fit_transform(X_train)\n",
    "X_test = scaler.transform(X_test)\n",
    "\n",
    "# Konwertowanie danych do postaci tensorów\n",
    "X_train = tf.convert_to_tensor(X_train, dtype=tf.float32)\n",
    "X_test = tf.convert_to_tensor(X_test, dtype=tf.float32)\n",
    "y_train = tf.convert_to_tensor(y_train, dtype=tf.int32)\n",
    "y_test = tf.convert_to_tensor(y_test, dtype=tf.int32)\n",
    "\n",
    "# Tworzenie modelu - sieć neuronowa\n",
    "model = tf.keras.Sequential([\n",
    "    tf.keras.layers.Dense(64, activation=\"relu\", input_shape=(X_train.shape[1],)),\n",
    "    tf.keras.layers.Dense(64, activation=\"relu\"),\n",
    "    tf.keras.layers.Dense(4, activation=\"softmax\") # 4 neurony w warstwie wyjściowej\n",
    "])\n",
    "\n",
    "# Kompilacja modelu z wykorzystaniem funkcji straty, optymalizatorem Adam i metryką accuracy do oceny skuteczności modelu\n",
    "model.compile(loss=tf.keras.losses.SparseCategoricalCrossentropy(),\n",
    "              optimizer=tf.keras.optimizers.Adam(),\n",
    "              metrics=[\"accuracy\"])\n",
    "\n",
    "# Trening modelu\n",
    "history = model.fit(X_train, y_train, epochs=10, batch_size=32, validation_split=0.2)\n",
    "\n",
    "# Ewaluacja modelu\n",
    "y_pred_probs = model.predict(X_test)\n",
    "y_pred = np.argmax(y_pred_probs, axis=1)\n",
    "\n",
    "accuracy = accuracy_score(y_test, y_pred)\n",
    "precision = precision_score(y_test, y_pred, average=\"weighted\")\n",
    "recall = recall_score(y_test, y_pred, average=\"weighted\")\n",
    "f1 = f1_score(y_test, y_pred, average=\"weighted\")\n",
    "\n",
    "print(\"Accuracy:\", accuracy)\n",
    "print(\"Precision:\", precision)\n",
    "print(\"Recall:\", recall)\n",
    "print(\"F1-score:\", f1)\n",
    "\n",
    "# Wizualizacja wyników\n",
    "plt.figure(figsize=(10, 6))\n",
    "plt.hist(y_pred, bins=4, alpha=0.5, label=\"Predicted\")\n",
    "plt.hist(y_test, bins=4, alpha=0.5, label=\"Actual\")\n",
    "plt.xlabel(\"Price Range\")\n",
    "plt.ylabel(\"Count\")\n",
    "plt.title(\"Predicted vs Actual Price Range\")\n",
    "plt.legend()\n",
    "plt.show()"
   ],
   "metadata": {
    "collapsed": false
   }
  }
 ],
 "metadata": {
  "kernelspec": {
   "display_name": "Python 3",
   "language": "python",
   "name": "python3"
  },
  "language_info": {
   "codemirror_mode": {
    "name": "ipython",
    "version": 2
   },
   "file_extension": ".py",
   "mimetype": "text/x-python",
   "name": "python",
   "nbconvert_exporter": "python",
   "pygments_lexer": "ipython2",
   "version": "2.7.6"
  }
 },
 "nbformat": 4,
 "nbformat_minor": 0
}
